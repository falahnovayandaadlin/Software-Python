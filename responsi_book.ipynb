{
  "nbformat": 4,
  "nbformat_minor": 0,
  "metadata": {
    "colab": {
      "name": "responsi_book.ipynb",
      "provenance": [],
      "collapsed_sections": []
    },
    "kernelspec": {
      "name": "python3",
      "display_name": "Python 3"
    },
    "language_info": {
      "name": "python"
    }
  },
  "cells": [
    {
      "cell_type": "code",
      "metadata": {
        "colab": {
          "base_uri": "https://localhost:8080/"
        },
        "id": "spcmOERKurpv",
        "outputId": "e8b532bb-da89-458d-cc64-d5dcb5eb962c"
      },
      "source": [
        "pip install pulp"
      ],
      "execution_count": null,
      "outputs": [
        {
          "output_type": "stream",
          "text": [
            "Requirement already satisfied: pulp in /usr/local/lib/python3.7/dist-packages (2.4)\n",
            "Requirement already satisfied: amply>=0.1.2 in /usr/local/lib/python3.7/dist-packages (from pulp) (0.1.4)\n",
            "Requirement already satisfied: docutils>=0.3 in /usr/local/lib/python3.7/dist-packages (from amply>=0.1.2->pulp) (0.17.1)\n",
            "Requirement already satisfied: pyparsing in /usr/local/lib/python3.7/dist-packages (from amply>=0.1.2->pulp) (2.4.7)\n"
          ],
          "name": "stdout"
        }
      ]
    },
    {
      "cell_type": "code",
      "metadata": {
        "id": "5O78NR0vuYmb"
      },
      "source": [
        "from pulp import *\n",
        "import numpy as np\n",
        "import pandas as pd\n",
        "import re\n",
        "import matplotlib.pyplot as plt\n",
        "from IPython.display import Image\n",
        "%matplotlib inline"
      ],
      "execution_count": null,
      "outputs": []
    },
    {
      "cell_type": "code",
      "metadata": {
        "colab": {
          "resources": {
            "http://localhost:8080/nbextensions/google.colab/files.js": {
              "data": "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",
              "ok": true,
              "headers": [
                [
                  "content-type",
                  "application/javascript"
                ]
              ],
              "status": 200,
              "status_text": ""
            }
          },
          "base_uri": "https://localhost:8080/",
          "height": 72
        },
        "id": "eaikUYvjuybO",
        "outputId": "378c1bdb-be27-4c80-fe83-63e6056c95c1"
      },
      "source": [
        "import pandas as pd\n",
        "from google.colab import files\n",
        "data_falah = files.upload() "
      ],
      "execution_count": null,
      "outputs": [
        {
          "output_type": "display_data",
          "data": {
            "text/html": [
              "\n",
              "     <input type=\"file\" id=\"files-ab1507db-3bfb-4d45-b4fc-bb9b89cb0ead\" name=\"files[]\" multiple disabled\n",
              "        style=\"border:none\" />\n",
              "     <output id=\"result-ab1507db-3bfb-4d45-b4fc-bb9b89cb0ead\">\n",
              "      Upload widget is only available when the cell has been executed in the\n",
              "      current browser session. Please rerun this cell to enable.\n",
              "      </output>\n",
              "      <script src=\"/nbextensions/google.colab/files.js\"></script> "
            ],
            "text/plain": [
              "<IPython.core.display.HTML object>"
            ]
          },
          "metadata": {
            "tags": []
          }
        },
        {
          "output_type": "stream",
          "text": [
            "Saving data buku novel fixxx jogja.csv to data buku novel fixxx jogja (2).csv\n"
          ],
          "name": "stdout"
        }
      ]
    },
    {
      "cell_type": "code",
      "metadata": {
        "colab": {
          "base_uri": "https://localhost:8080/"
        },
        "id": "k7JQzjJ7vZWB",
        "outputId": "1dbe5c0c-9c29-4534-d63c-ae9aa4d37672"
      },
      "source": [
        "data_falah"
      ],
      "execution_count": null,
      "outputs": [
        {
          "output_type": "execute_result",
          "data": {
            "text/plain": [
              "{'data buku novel fixxx jogja.csv': b'judul,harga,kota_toko,jarak_tempuh (km),terjual\\r\\nPetualangan Sherlock Holmes,170000,KAB. BANTUL,12,117\\r\\nMOTIVASI MUSLIMAH : THE GREAT SHALIHA,51000,KOTA DEPOK,550,193\\r\\n\"MY HUSBAND MY CEO, PERFECT HUSBAND, LECTURER HUSBAND. 3 \",57000,KOTA JAKARTA BARAT,600,140\\r\\nPene000it Indoliterasi - Sherlock Holmes The Complete  Collection English Edition Box Set,170000,KAB. BANTUL,12,5\\r\\n My Lecturer My Husband - GITLICIOUS,16500,KAB. BEKASI,550,1800\\r\\n MOZACHIKO POPPI PERTIWI NEW COVER TRUSTED & ,69810,KOTA DEPOK,550,323\\r\\n LOVE ALERT by Seo Han Gyeol,135150,KAB. TANGERANG,650,164\\r\\n  : SELAMAT TINGGAL KARYA TERE LIYE,68000,KOTA JAKARTA BARAT,600,139\\r\\n Septihan - Poppi Pertiwi,79200,KOTA JAKARTA SELATAN,600,276\\r\\n LetMeTellYouAStory About Zodiac by ALEXANDER THIAN,84150,KAB. TANGERANG,650,2500\\r\\n Septihan - Poppi Pertiwi ,74250,KOTA DEPOK,550,633\\r\\n I WANT TO EAT YOUR PANCREAS ( New cover) by Sumino Yoru,71400,KAB. TANGERANG,650,814\\r\\n GISELLE by Akiyoshi Rikako,77350,KAB. TANGERANG,650,928\\r\\n Antariksa - Tresia,77000,KOTA DEPOK,550,313\\r\\n Antares Limited Version - Rweinda,79500,KOTA TANGERANG SELATAN,650,2300\\r\\nReady Stock  Galaksi - Poppi Pertiwi  ,77220,KOTA DEPOK,550,734\\r\\n  Sastra Masa Bergolak - M. A. Salmun,39000,KOTA DEPOK,550,2\\r\\n Septihan - Poppi Pertiwi,74250,KOTA DEPOK,550,1200\\r\\n  Sastra Airlangga - Sanoesi Pane,26000,KOTA DEPOK,550,2\\r\\n ABSOLUTE JUSTICE by Akiyoshi Rikako,62900,KAB. TANGERANG,650,976\\r\\n On God and Other Unfinished Things (Bahasa Inggris),20000,KAB. SUMENEP,489,36\\r\\n ANTARIKSA (Tresia),79200,KOTA DEPOK,550,848\\r\\n Antariksa - Tresia,79000,KOTA TANGERANG SELATAN,650,2000\\r\\nKOLEKSI  MISTERI AGATHA CHRISTIE - BESTSELLER (GPU),50150,KOTA SALATIGA,110,25\\r\\n Another 1 by Ayatsuji Yukito,75650,KAB. TANGERANG,650,544\\r\\n  Antariksa coconut - Tresia ,82000,KOTA TANGERANG SELATAN,650,32\\r\\n Secretly Married (New Cover),58650,KAB. TANGERANG,650,495\\r\\n SERANGKAI //  GAME OVER // CLAIRES // NONVERSATION KARYA VALERIE PATKAR,78975,KOTA SURABAYA,324,25\\r\\n\" BUMI, CEROS DAN BATOZAR, KOMET BY TERE LIYE\",76000,KOTA SURABAYA,324,25\\r\\n Septihan - Poppi Pertiwi,139000,KOTA TANGERANG SELATAN,650,2900\\r\\n RIGEL - RIRIN CIPLUK,15000,KAB. BEKASI,550,52\\r\\n\" Rata - Rata 20.000 bebas pilih judul. Mariposa, Asya story, Alaska\",20000,KOTA YOGYAKARTA,1,352\\r\\n\"    PROMO CUCI GUDANG 10,000 PHOBIA MCI TIME RIDERS PATUNG CINTA\",10000,KAB. BANTUL,12,45\\r\\nKUBURAN DALAM RUMAH - E000Y S.   Horror Misteri Thriller Remaja Dewasa,12600,KAB. SLEMAN,5,19\\r\\n   KHADIJAH FATIMAH ASIYAH AISYAH MARYAM HAJAR - Sibel Eraslan,118000,KOTA YOGYAKARTA,1,75\\r\\n MALACHAI (A-Noona) Bonus Pin-up Fanart dan Extra Chapter,99000,KOTA DEPOK,550,52\\r\\n\" Dilan 1990, Dilan 1991, Milea\",15000,KOTA YOGYAKARTA,1,154\\r\\n Story Calling - Risma Ridha Annisa,96000,KOTA TANGERANG SELATAN,650,73\\r\\n LUCAS (Cinta Prita) Edisi Recover,81000,KOTA DEPOK,550,102\\r\\n - Kamu Terlalu Banyak Bercanda by Marcela,14800,KAB. BEKASI,550,1600\\r\\n[]  HARLEQUIN//GRAMEDIA ORI SEGEL,6500,KAB. KUDUS,181,89\\r\\n  Risara - Sara Wijayanto & Risa Saraswati,32640,KAB. SIDOARJO,323,16\\r\\nBERSAMA LAGI: TENTANG RASA YANG PERNAH PATAH by @GADISTURATEA / ,55200,KOTA TANGERANG SELATAN,650,56\\r\\n 2A3: 4 MENIT 9 DETIK (Yourkidlee) Edisi TTD Penulis + Bonus Mini Photocard,71600,KOTA DEPOK,550,50\\r\\n My Protective Husband By Naomi Octa,52000,KOTA JAKARTA TIMUR,600,303\\r\\n[Mizan] Milea Suara Dari Dilan,54000,KOTA JAKARTA SELATAN,600,6\\r\\nCatatan Juang - Fiersa Besari,63500,KOTA YOGYAKARTA,1,142\\r\\nDasar Dasar Hukum Pidana Di Indonesia - Lamintang,200000,KOTA YOGYAKARTA,1,5\\r\\nSudah Benarkah Shalatku (tidak pakai CD),62100,KOTA BANDUNG,553,83\\r\\n GARIS WAKTU - FIERSA BESARI,15600,KAB. BEKASI,550,20\\r\\n 500 TOKOH MUSLIM DUNIA PUSTAKA BARU PRESS,25000,KAB. BANTUL,12,3\\r\\n\"   HARLEQUIN  PROMO CUCI GUDANG 10,000 HOT ON HER HEELS A TOUCH OF SILK\",10000,KAB. BANTUL,12,1\\r\\n 3  SIMPLEMAN - JANUR IRENG - KKN DESA PENARI - SEWU DINO,45000,KAB. BEKASI,550,112\\r\\nPsikologi Pendidikan Jilid 1 Edisi 6 - Jeanne Ellis Ormrod,366400,KOTA YOGYAKARTA,1,6\\r\\n wattpad BARA by natalia tan,22500,KOTA SURABAYA,324,44\\r\\n wedding agreement,17000,KOTA YOGYAKARTA,1,68\\r\\n ALDEBARAN - Malashantii,60000,KOTA TANGERANG SELATAN,650,44\\r\\n\" WATTPAD SEPTIHAN, FRIENDSHIT, 24, ANTARIKSA, CEO HUSBAND, STRONG GIRL, MY LECTURER MY HUSBAND\",19000,KOTA JAKARTA BARAT,600,362\\r\\n IMPROMPTU PARENTS (Rizuki Nanda),79200,KOTA DEPOK,550,61\\r\\n Senja Hujan & Cerita yang Telah Usai - Boy Candra (BOOKPAPER),20000,KOTA SURABAYA,324,347\\r\\n\" jadul balai Pustaka harga 5000, judul silahkan pilih di kategori\",5000,KAB. BANTUL,12,184\\r\\n NOIR (Renita Nozaria),68000,KOTA DEPOK,550,166\\r\\n FRIENDSHIT - Queen Nakey,145000,KOTA TANGERANG SELATAN,650,177\\r\\n HEMAT  NOIR 1 & 2 By Renita Nozaria,76075,KAB. TANGERANG,650,43\\r\\nPene000it Indoliterasi - Sherlock Holmes Box Set versi Bahasa Inggris,360000,KAB. BANTUL,12,27\\r\\n 3  Perfect Honeymoon - My Husban My CEO - Perfect Husband,48000,KAB. BEKASI,550,792\\r\\n KAMU TERLALU BANYAK BERCANDA,15000,KOTA JAKARTA BARAT,600,35\\r\\nPene000it Indoliterasi - Sherlock Holmes A Study in Scarlet versi B.Inggris,31500,KAB. BANTUL,12,93\\r\\n SEPTIHAN by Poppi Pertiwi - Se000u Septihan Jilid 2,141575,KOTA JAKARTA BARAT,600,282\\r\\n PEKAT (Ra_Amalia) TTD Penulis + Bonus,89100,KOTA DEPOK,550,62\\r\\n NIKAH SAAT SMA by WinilLiya,17500,KAB. BEKASI,550,53\\r\\n CINTA DALAM IKHLAS - KANG ABAY,20930,KOTA SURAKARTA (SOLO),65,167\\r\\n PREMAN SEKOLAH - MAULIDYA UTAMI,15600,KAB. BEKASI,550,64\\r\\n Wigati lintang manik woro,20000,KOTA SURABAYA,324,72\\r\\n NOCEUR (Renita Nozaria),79600,KOTA DEPOK,550,787\\r\\n LASKAR  Annisa fitriani,18000,KOTA YOGYAKARTA,1,112\\r\\n KKN : Kuliah Kerja Ngebaper - Nurul Vidya Utami,79200,KOTA TANGERANG SELATAN,650,138\\r\\n perfect honeymoon,15000,KOTA YOGYAKARTA,1,416\\r\\n The Old Man And The Sea Ernest Hemingway,33750,KAB. SLEMAN,5,28\\r\\nAsya Story - Sabrina Febrianti,21000,KOTA YOGYAKARTA,1,3\\r\\n\"    PROMO CUCI GUDANG 10,000 REBORN THE KOLOR OF MY LIFE MAWAR MERAH MATAHARI\",10000,KAB. BANTUL,12,101\\r\\n WANITA BERKARIR DI SURGA - FELIX Y SIAUW,16000,KAB. BEKASI,550,468\\r\\n  HARRY POTTER AND THE ORDER OF THE PHOENIX  SOFT COVER - J K ROWLING - GRAMEDIA,105000,KOTA YOGYAKARTA,1,60\\r\\nReady Stok !!!  Unwanted Bond - Married To Mr. Park By Yeny Kristina,114038,KAB. TANGERANG,650,50\\r\\n PSYCHOPATH LOGIC (Cliven Zia),55200,KOTA DEPOK,550,142\\r\\n My Little Girl - You_Zha,173500,KOTA TANGERANG SELATAN,650,84\\r\\n BTS To All The Youngsters,17000,KOTA YOGYAKARTA,1,124\\r\\n\" THE BODYGUARD (A-Noona) Bonus 1 Poster, 2 Photocard\",76000,KOTA DEPOK,550,348\\r\\n INDIGO Stories,18000,KOTA YOGYAKARTA,1,217\\r\\n WHAT TO SAY NEXT by Julie Buxbaum,74800,KAB. PONOROGO,216,31\\r\\n IPA & IPS (chachaii_),71200,KOTA DEPOK,550,56\\r\\n Renata - Hytrrahmi,79000,KOTA TANGERANG SELATAN,650,97\\r\\nReady Stock  Selamat Tinggal Karya Tere Liye - Free Gantungan Kunci (Te000atas),68000,KOTA MALANG,392,70\\r\\n'}"
            ]
          },
          "metadata": {
            "tags": []
          },
          "execution_count": 43
        }
      ]
    },
    {
      "cell_type": "code",
      "metadata": {
        "colab": {
          "base_uri": "https://localhost:8080/"
        },
        "id": "6_YfbRCbuUPs",
        "outputId": "88ae238e-9eb4-4ec3-a59f-c37d08c3ff2a"
      },
      "source": [
        "import io\n",
        "df_falah = pd.read_csv(io.StringIO(data_falah['data buku novel fixxx jogja.csv'].decode('utf-8')))\n",
        "print(df_falah)"
      ],
      "execution_count": null,
      "outputs": [
        {
          "output_type": "stream",
          "text": [
            "                                                judul  ...  terjual\n",
            "0                         Petualangan Sherlock Holmes  ...      117\n",
            "1               MOTIVASI MUSLIMAH : THE GREAT SHALIHA  ...      193\n",
            "2   MY HUSBAND MY CEO, PERFECT HUSBAND, LECTURER H...  ...      140\n",
            "3   Pene000it Indoliterasi - Sherlock Holmes The C...  ...        5\n",
            "4                 My Lecturer My Husband - GITLICIOUS  ...     1800\n",
            "..                                                ...  ...      ...\n",
            "88                                     INDIGO Stories  ...      217\n",
            "89                  WHAT TO SAY NEXT by Julie Buxbaum  ...       31\n",
            "90                              IPA & IPS (chachaii_)  ...       56\n",
            "91                                 Renata - Hytrrahmi  ...       97\n",
            "92  Ready Stock  Selamat Tinggal Karya Tere Liye -...  ...       70\n",
            "\n",
            "[93 rows x 5 columns]\n"
          ],
          "name": "stdout"
        }
      ]
    },
    {
      "cell_type": "code",
      "metadata": {
        "colab": {
          "base_uri": "https://localhost:8080/",
          "height": 284
        },
        "id": "Jit-Fq760LrP",
        "outputId": "3bf01427-ddc6-4d2f-ebb4-48dd191c79c7"
      },
      "source": [
        "fig, axs = plt.subplots(1,2)\n",
        "my_plot = df_falah[['judul', 'harga']].plot(kind='bar', title=\"Book Name by harga\", ax=axs[0])\n",
        "my_plot = df_falah[['judul', 'jarak_tempuh (km)']].plot(kind='bar', title=\"Book Name by jarak\", ax=axs[1])"
      ],
      "execution_count": null,
      "outputs": [
        {
          "output_type": "display_data",
          "data": {
            "image/png": "[encoded data removed]",
            "text/plain": [
              "<Figure size 432x288 with 2 Axes>"
            ]
          },
          "metadata": {
            "tags": [],
            "needs_background": "light"
          }
        }
      ]
    },
    {
      "cell_type": "markdown",
      "metadata": {
        "id": "BofQkEgmmPcL"
      },
      "source": [
        "**Setting Up LP Problem:**\n",
        "- Menamakan objek program\n",
        "- Membuat formulasi fungsi tujuannya"
      ]
    },
    {
      "cell_type": "code",
      "metadata": {
        "id": "7cI2RZn35HvD"
      },
      "source": [
        "# create the LP object, set up as a minimization problem --> since we want to maximize the number of books we read in a year\n",
        "prob = pulp.LpProblem('novel_favorit',LpMinimize)"
      ],
      "execution_count": null,
      "outputs": []
    },
    {
      "cell_type": "markdown",
      "metadata": {
        "id": "EPmhSr9jl-xt"
      },
      "source": [
        "- Membuat variabel keputusan X"
      ]
    },
    {
      "cell_type": "code",
      "metadata": {
        "id": "y6E_EQLF5aH7",
        "colab": {
          "base_uri": "https://localhost:8080/"
        },
        "outputId": "54b3e087-c6b0-42cd-a21a-1dcc54e761fc"
      },
      "source": [
        "# create decision variables\n",
        "decision_variables = []\n",
        "for rownum, row in df_falah.iterrows(): #perulangan membuat variabel keputusan\n",
        "  variable = str('x' + str(rownum))\n",
        "  variable = pulp.LpVariable(str(variable), lowBound = 0, upBound = 1, cat= 'Integer') # membuat variabel menjadi biner\n",
        "  decision_variables.append(variable)\n",
        "\n",
        "print (\"Total number of decision_variables: \" + str(len(decision_variables)))\n",
        "print (\"Array with vdecision_variables:\" + str(decision_variables))"
      ],
      "execution_count": null,
      "outputs": [
        {
          "output_type": "stream",
          "text": [
            "Total number of decision_variables: 93\n",
            "Array with vdecision_variables:[x0, x1, x2, x3, x4, x5, x6, x7, x8, x9, x10, x11, x12, x13, x14, x15, x16, x17, x18, x19, x20, x21, x22, x23, x24, x25, x26, x27, x28, x29, x30, x31, x32, x33, x34, x35, x36, x37, x38, x39, x40, x41, x42, x43, x44, x45, x46, x47, x48, x49, x50, x51, x52, x53, x54, x55, x56, x57, x58, x59, x60, x61, x62, x63, x64, x65, x66, x67, x68, x69, x70, x71, x72, x73, x74, x75, x76, x77, x78, x79, x80, x81, x82, x83, x84, x85, x86, x87, x88, x89, x90, x91, x92]\n"
          ],
          "name": "stdout"
        }
      ]
    },
    {
      "cell_type": "markdown",
      "metadata": {
        "id": "YcG7n2RxNIXH"
      },
      "source": [
        "- Mendefinisikan fungsi tujuannya"
      ]
    },
    {
      "cell_type": "code",
      "metadata": {
        "colab": {
          "base_uri": "https://localhost:8080/"
        },
        "id": "IjJfOv6WNXyN",
        "outputId": "1200defb-d586-4c27-8e14-0e134a663868"
      },
      "source": [
        "# define objective function (minimixing the cost of the trip)\n",
        "total_harga = \"\"\n",
        "for rownum, row in df_falah.iterrows(): #perulangan membuat fungsi tujuan\n",
        "  for i, schedule in enumerate(decision_variables): \n",
        "    if rownum == i:\n",
        "      formula = row['harga']*schedule\n",
        "      total_harga += formula\n",
        "\n",
        "prob += total_harga\n",
        "print (\"Optimization function: \" + str(total_harga))"
      ],
      "execution_count": null,
      "outputs": [
        {
          "output_type": "stream",
          "text": [
            "Optimization function: 170000*x0 + 51000*x1 + 74250*x10 + 71400*x11 + 77350*x12 + 77000*x13 + 79500*x14 + 77220*x15 + 39000*x16 + 74250*x17 + 26000*x18 + 62900*x19 + 57000*x2 + 20000*x20 + 79200*x21 + 79000*x22 + 50150*x23 + 75650*x24 + 82000*x25 + 58650*x26 + 78975*x27 + 76000*x28 + 139000*x29 + 170000*x3 + 15000*x30 + 20000*x31 + 10000*x32 + 12600*x33 + 118000*x34 + 99000*x35 + 15000*x36 + 96000*x37 + 81000*x38 + 14800*x39 + 16500*x4 + 6500*x40 + 32640*x41 + 55200*x42 + 71600*x43 + 52000*x44 + 54000*x45 + 63500*x46 + 200000*x47 + 62100*x48 + 15600*x49 + 69810*x5 + 25000*x50 + 10000*x51 + 45000*x52 + 366400*x53 + 22500*x54 + 17000*x55 + 60000*x56 + 19000*x57 + 79200*x58 + 20000*x59 + 135150*x6 + 5000*x60 + 68000*x61 + 145000*x62 + 76075*x63 + 360000*x64 + 48000*x65 + 15000*x66 + 31500*x67 + 141575*x68 + 89100*x69 + 68000*x7 + 17500*x70 + 20930*x71 + 15600*x72 + 20000*x73 + 79600*x74 + 18000*x75 + 79200*x76 + 15000*x77 + 33750*x78 + 21000*x79 + 79200*x8 + 10000*x80 + 16000*x81 + 105000*x82 + 114038*x83 + 55200*x84 + 173500*x85 + 17000*x86 + 76000*x87 + 18000*x88 + 74800*x89 + 84150*x9 + 71200*x90 + 79000*x91 + 68000*x92\n"
          ],
          "name": "stdout"
        }
      ]
    },
    {
      "cell_type": "markdown",
      "metadata": {
        "id": "OBExeMKGNVwN"
      },
      "source": [
        "*  Mendefinisikan constrainnya/fungsi batasnnya"
      ]
    },
    {
      "cell_type": "code",
      "metadata": {
        "colab": {
          "base_uri": "https://localhost:8080/"
        },
        "id": "_FGGwNTnO46G",
        "outputId": "4376e34a-8c3d-41a8-a419-e89d75a015b6"
      },
      "source": [
        "# define constrains: (selected packages should not exceed total vacation days available)\n",
        "aval_jarak = 2300\n",
        "total_jarak = \"\" \n",
        "for rownum, row in df_falah.iterrows(): #perulangan membuat fungsi batasan\n",
        "  for i, schedule in enumerate(decision_variables):\n",
        "    if rownum == i:\n",
        "      formula = row['jarak_tempuh (km)']*schedule\n",
        "      total_jarak += formula\n",
        "\n",
        "prob += (total_jarak == aval_jarak)\n",
        "print (\"Constrains: \" + str(total_jarak))"
      ],
      "execution_count": null,
      "outputs": [
        {
          "output_type": "stream",
          "text": [
            "Constrains: 12*x0 + 550*x1 + 550*x10 + 650*x11 + 650*x12 + 550*x13 + 650*x14 + 550*x15 + 550*x16 + 550*x17 + 550*x18 + 650*x19 + 600*x2 + 489*x20 + 550*x21 + 650*x22 + 110*x23 + 650*x24 + 650*x25 + 650*x26 + 324*x27 + 324*x28 + 650*x29 + 12*x3 + 550*x30 + x31 + 12*x32 + 5*x33 + x34 + 550*x35 + x36 + 650*x37 + 550*x38 + 550*x39 + 550*x4 + 181*x40 + 323*x41 + 650*x42 + 550*x43 + 600*x44 + 600*x45 + x46 + x47 + 553*x48 + 550*x49 + 550*x5 + 12*x50 + 12*x51 + 550*x52 + x53 + 324*x54 + x55 + 650*x56 + 600*x57 + 550*x58 + 324*x59 + 650*x6 + 12*x60 + 550*x61 + 650*x62 + 650*x63 + 12*x64 + 550*x65 + 600*x66 + 12*x67 + 600*x68 + 550*x69 + 600*x7 + 550*x70 + 65*x71 + 550*x72 + 324*x73 + 550*x74 + x75 + 650*x76 + x77 + 5*x78 + x79 + 600*x8 + 12*x80 + 550*x81 + x82 + 650*x83 + 550*x84 + 650*x85 + x86 + 550*x87 + x88 + 216*x89 + 650*x9 + 550*x90 + 650*x91 + 392*x92\n"
          ],
          "name": "stdout"
        }
      ]
    },
    {
      "cell_type": "markdown",
      "metadata": {
        "id": "-cPHOVzwPb__"
      },
      "source": [
        "*   Final formatnya"
      ]
    },
    {
      "cell_type": "code",
      "metadata": {
        "colab": {
          "base_uri": "https://localhost:8080/"
        },
        "id": "GHFUvtTtPf39",
        "outputId": "11df542c-ab39-40a1-b81d-319b6c3b2c6a"
      },
      "source": [
        "# the final format\n",
        "print (prob)\n",
        "prob.writeLP(\"novel_favorit.lp\" )"
      ],
      "execution_count": null,
      "outputs": [
        {
          "output_type": "stream",
          "text": [
            "novel_favorit:\n",
            "MINIMIZE\n",
            "170000*x0 + 51000*x1 + 74250*x10 + 71400*x11 + 77350*x12 + 77000*x13 + 79500*x14 + 77220*x15 + 39000*x16 + 74250*x17 + 26000*x18 + 62900*x19 + 57000*x2 + 20000*x20 + 79200*x21 + 79000*x22 + 50150*x23 + 75650*x24 + 82000*x25 + 58650*x26 + 78975*x27 + 76000*x28 + 139000*x29 + 170000*x3 + 15000*x30 + 20000*x31 + 10000*x32 + 12600*x33 + 118000*x34 + 99000*x35 + 15000*x36 + 96000*x37 + 81000*x38 + 14800*x39 + 16500*x4 + 6500*x40 + 32640*x41 + 55200*x42 + 71600*x43 + 52000*x44 + 54000*x45 + 63500*x46 + 200000*x47 + 62100*x48 + 15600*x49 + 69810*x5 + 25000*x50 + 10000*x51 + 45000*x52 + 366400*x53 + 22500*x54 + 17000*x55 + 60000*x56 + 19000*x57 + 79200*x58 + 20000*x59 + 135150*x6 + 5000*x60 + 68000*x61 + 145000*x62 + 76075*x63 + 360000*x64 + 48000*x65 + 15000*x66 + 31500*x67 + 141575*x68 + 89100*x69 + 68000*x7 + 17500*x70 + 20930*x71 + 15600*x72 + 20000*x73 + 79600*x74 + 18000*x75 + 79200*x76 + 15000*x77 + 33750*x78 + 21000*x79 + 79200*x8 + 10000*x80 + 16000*x81 + 105000*x82 + 114038*x83 + 55200*x84 + 173500*x85 + 17000*x86 + 76000*x87 + 18000*x88 + 74800*x89 + 84150*x9 + 71200*x90 + 79000*x91 + 68000*x92 + 0\n",
            "SUBJECT TO\n",
            "_C1: 12 x0 + 550 x1 + 550 x10 + 650 x11 + 650 x12 + 550 x13 + 650 x14\n",
            " + 550 x15 + 550 x16 + 550 x17 + 550 x18 + 650 x19 + 600 x2 + 489 x20\n",
            " + 550 x21 + 650 x22 + 110 x23 + 650 x24 + 650 x25 + 650 x26 + 324 x27\n",
            " + 324 x28 + 650 x29 + 12 x3 + 550 x30 + x31 + 12 x32 + 5 x33 + x34 + 550 x35\n",
            " + x36 + 650 x37 + 550 x38 + 550 x39 + 550 x4 + 181 x40 + 323 x41 + 650 x42\n",
            " + 550 x43 + 600 x44 + 600 x45 + x46 + x47 + 553 x48 + 550 x49 + 550 x5\n",
            " + 12 x50 + 12 x51 + 550 x52 + x53 + 324 x54 + x55 + 650 x56 + 600 x57\n",
            " + 550 x58 + 324 x59 + 650 x6 + 12 x60 + 550 x61 + 650 x62 + 650 x63 + 12 x64\n",
            " + 550 x65 + 600 x66 + 12 x67 + 600 x68 + 550 x69 + 600 x7 + 550 x70 + 65 x71\n",
            " + 550 x72 + 324 x73 + 550 x74 + x75 + 650 x76 + x77 + 5 x78 + x79 + 600 x8\n",
            " + 12 x80 + 550 x81 + x82 + 650 x83 + 550 x84 + 650 x85 + x86 + 550 x87 + x88\n",
            " + 216 x89 + 650 x9 + 550 x90 + 650 x91 + 392 x92 = 2300\n",
            "\n",
            "VARIABLES\n",
            "0 <= x0 <= 1 Integer\n",
            "0 <= x1 <= 1 Integer\n",
            "0 <= x10 <= 1 Integer\n",
            "0 <= x11 <= 1 Integer\n",
            "0 <= x12 <= 1 Integer\n",
            "0 <= x13 <= 1 Integer\n",
            "0 <= x14 <= 1 Integer\n",
            "0 <= x15 <= 1 Integer\n",
            "0 <= x16 <= 1 Integer\n",
            "0 <= x17 <= 1 Integer\n",
            "0 <= x18 <= 1 Integer\n",
            "0 <= x19 <= 1 Integer\n",
            "0 <= x2 <= 1 Integer\n",
            "0 <= x20 <= 1 Integer\n",
            "0 <= x21 <= 1 Integer\n",
            "0 <= x22 <= 1 Integer\n",
            "0 <= x23 <= 1 Integer\n",
            "0 <= x24 <= 1 Integer\n",
            "0 <= x25 <= 1 Integer\n",
            "0 <= x26 <= 1 Integer\n",
            "0 <= x27 <= 1 Integer\n",
            "0 <= x28 <= 1 Integer\n",
            "0 <= x29 <= 1 Integer\n",
            "0 <= x3 <= 1 Integer\n",
            "0 <= x30 <= 1 Integer\n",
            "0 <= x31 <= 1 Integer\n",
            "0 <= x32 <= 1 Integer\n",
            "0 <= x33 <= 1 Integer\n",
            "0 <= x34 <= 1 Integer\n",
            "0 <= x35 <= 1 Integer\n",
            "0 <= x36 <= 1 Integer\n",
            "0 <= x37 <= 1 Integer\n",
            "0 <= x38 <= 1 Integer\n",
            "0 <= x39 <= 1 Integer\n",
            "0 <= x4 <= 1 Integer\n",
            "0 <= x40 <= 1 Integer\n",
            "0 <= x41 <= 1 Integer\n",
            "0 <= x42 <= 1 Integer\n",
            "0 <= x43 <= 1 Integer\n",
            "0 <= x44 <= 1 Integer\n",
            "0 <= x45 <= 1 Integer\n",
            "0 <= x46 <= 1 Integer\n",
            "0 <= x47 <= 1 Integer\n",
            "0 <= x48 <= 1 Integer\n",
            "0 <= x49 <= 1 Integer\n",
            "0 <= x5 <= 1 Integer\n",
            "0 <= x50 <= 1 Integer\n",
            "0 <= x51 <= 1 Integer\n",
            "0 <= x52 <= 1 Integer\n",
            "0 <= x53 <= 1 Integer\n",
            "0 <= x54 <= 1 Integer\n",
            "0 <= x55 <= 1 Integer\n",
            "0 <= x56 <= 1 Integer\n",
            "0 <= x57 <= 1 Integer\n",
            "0 <= x58 <= 1 Integer\n",
            "0 <= x59 <= 1 Integer\n",
            "0 <= x6 <= 1 Integer\n",
            "0 <= x60 <= 1 Integer\n",
            "0 <= x61 <= 1 Integer\n",
            "0 <= x62 <= 1 Integer\n",
            "0 <= x63 <= 1 Integer\n",
            "0 <= x64 <= 1 Integer\n",
            "0 <= x65 <= 1 Integer\n",
            "0 <= x66 <= 1 Integer\n",
            "0 <= x67 <= 1 Integer\n",
            "0 <= x68 <= 1 Integer\n",
            "0 <= x69 <= 1 Integer\n",
            "0 <= x7 <= 1 Integer\n",
            "0 <= x70 <= 1 Integer\n",
            "0 <= x71 <= 1 Integer\n",
            "0 <= x72 <= 1 Integer\n",
            "0 <= x73 <= 1 Integer\n",
            "0 <= x74 <= 1 Integer\n",
            "0 <= x75 <= 1 Integer\n",
            "0 <= x76 <= 1 Integer\n",
            "0 <= x77 <= 1 Integer\n",
            "0 <= x78 <= 1 Integer\n",
            "0 <= x79 <= 1 Integer\n",
            "0 <= x8 <= 1 Integer\n",
            "0 <= x80 <= 1 Integer\n",
            "0 <= x81 <= 1 Integer\n",
            "0 <= x82 <= 1 Integer\n",
            "0 <= x83 <= 1 Integer\n",
            "0 <= x84 <= 1 Integer\n",
            "0 <= x85 <= 1 Integer\n",
            "0 <= x86 <= 1 Integer\n",
            "0 <= x87 <= 1 Integer\n",
            "0 <= x88 <= 1 Integer\n",
            "0 <= x89 <= 1 Integer\n",
            "0 <= x9 <= 1 Integer\n",
            "0 <= x90 <= 1 Integer\n",
            "0 <= x91 <= 1 Integer\n",
            "0 <= x92 <= 1 Integer\n",
            "\n"
          ],
          "name": "stdout"
        },
        {
          "output_type": "execute_result",
          "data": {
            "text/plain": [
              "[x0,\n",
              " x1,\n",
              " x10,\n",
              " x11,\n",
              " x12,\n",
              " x13,\n",
              " x14,\n",
              " x15,\n",
              " x16,\n",
              " x17,\n",
              " x18,\n",
              " x19,\n",
              " x2,\n",
              " x20,\n",
              " x21,\n",
              " x22,\n",
              " x23,\n",
              " x24,\n",
              " x25,\n",
              " x26,\n",
              " x27,\n",
              " x28,\n",
              " x29,\n",
              " x3,\n",
              " x30,\n",
              " x31,\n",
              " x32,\n",
              " x33,\n",
              " x34,\n",
              " x35,\n",
              " x36,\n",
              " x37,\n",
              " x38,\n",
              " x39,\n",
              " x4,\n",
              " x40,\n",
              " x41,\n",
              " x42,\n",
              " x43,\n",
              " x44,\n",
              " x45,\n",
              " x46,\n",
              " x47,\n",
              " x48,\n",
              " x49,\n",
              " x5,\n",
              " x50,\n",
              " x51,\n",
              " x52,\n",
              " x53,\n",
              " x54,\n",
              " x55,\n",
              " x56,\n",
              " x57,\n",
              " x58,\n",
              " x59,\n",
              " x6,\n",
              " x60,\n",
              " x61,\n",
              " x62,\n",
              " x63,\n",
              " x64,\n",
              " x65,\n",
              " x66,\n",
              " x67,\n",
              " x68,\n",
              " x69,\n",
              " x7,\n",
              " x70,\n",
              " x71,\n",
              " x72,\n",
              " x73,\n",
              " x74,\n",
              " x75,\n",
              " x76,\n",
              " x77,\n",
              " x78,\n",
              " x79,\n",
              " x8,\n",
              " x80,\n",
              " x81,\n",
              " x82,\n",
              " x83,\n",
              " x84,\n",
              " x85,\n",
              " x86,\n",
              " x87,\n",
              " x88,\n",
              " x89,\n",
              " x9,\n",
              " x90,\n",
              " x91,\n",
              " x92]"
            ]
          },
          "metadata": {
            "tags": []
          },
          "execution_count": 50
        }
      ]
    },
    {
      "cell_type": "markdown",
      "metadata": {
        "id": "kKZIfElEP0a0"
      },
      "source": [
        "*   Actual Optimization"
      ]
    },
    {
      "cell_type": "code",
      "metadata": {
        "colab": {
          "base_uri": "https://localhost:8080/"
        },
        "id": "LQHrOg14Pygl",
        "outputId": "5d62bf2b-cb2d-47bb-e286-18e6f25d9ad0"
      },
      "source": [
        "# the actual optimization\n",
        "optimization_result = prob.solve()\n",
        "\n",
        "print(\"Status:\", LpStatus[optimization_result])\n",
        "print(\"Optimal Solution to the problem: \", value(prob.objective))\n",
        "print (\"Individual decision_variables: \")\n",
        "for v in prob.variables(): #perulangan\n",
        "  print(v.name, \"=\", v.varValue) #v.name(ya/tidak) v.varValue(1/0)"
      ],
      "execution_count": null,
      "outputs": [
        {
          "output_type": "stream",
          "text": [
            "Status: Optimal\n",
            "Optimal Solution to the problem:  63800.0\n",
            "Individual decision_variables: \n",
            "x0 = 0.0\n",
            "x1 = 0.0\n",
            "x10 = 0.0\n",
            "x11 = 0.0\n",
            "x12 = 0.0\n",
            "x13 = 0.0\n",
            "x14 = 0.0\n",
            "x15 = 0.0\n",
            "x16 = 0.0\n",
            "x17 = 0.0\n",
            "x18 = 0.0\n",
            "x19 = 0.0\n",
            "x2 = 0.0\n",
            "x20 = 0.0\n",
            "x21 = 0.0\n",
            "x22 = 0.0\n",
            "x23 = 0.0\n",
            "x24 = 0.0\n",
            "x25 = 0.0\n",
            "x26 = 0.0\n",
            "x27 = 0.0\n",
            "x28 = 0.0\n",
            "x29 = 0.0\n",
            "x3 = 0.0\n",
            "x30 = 1.0\n",
            "x31 = 0.0\n",
            "x32 = 0.0\n",
            "x33 = 0.0\n",
            "x34 = 0.0\n",
            "x35 = 0.0\n",
            "x36 = 0.0\n",
            "x37 = 0.0\n",
            "x38 = 0.0\n",
            "x39 = 1.0\n",
            "x4 = 0.0\n",
            "x40 = 0.0\n",
            "x41 = 0.0\n",
            "x42 = 0.0\n",
            "x43 = 0.0\n",
            "x44 = 0.0\n",
            "x45 = 0.0\n",
            "x46 = 0.0\n",
            "x47 = 0.0\n",
            "x48 = 0.0\n",
            "x49 = 0.0\n",
            "x5 = 0.0\n",
            "x50 = 0.0\n",
            "x51 = 0.0\n",
            "x52 = 0.0\n",
            "x53 = 0.0\n",
            "x54 = 0.0\n",
            "x55 = 0.0\n",
            "x56 = 0.0\n",
            "x57 = 1.0\n",
            "x58 = 0.0\n",
            "x59 = 0.0\n",
            "x6 = 0.0\n",
            "x60 = 0.0\n",
            "x61 = 0.0\n",
            "x62 = 0.0\n",
            "x63 = 0.0\n",
            "x64 = 0.0\n",
            "x65 = 0.0\n",
            "x66 = 1.0\n",
            "x67 = 0.0\n",
            "x68 = 0.0\n",
            "x69 = 0.0\n",
            "x7 = 0.0\n",
            "x70 = 0.0\n",
            "x71 = 0.0\n",
            "x72 = 0.0\n",
            "x73 = 0.0\n",
            "x74 = 0.0\n",
            "x75 = 0.0\n",
            "x76 = 0.0\n",
            "x77 = 0.0\n",
            "x78 = 0.0\n",
            "x79 = 0.0\n",
            "x8 = 0.0\n",
            "x80 = 0.0\n",
            "x81 = 0.0\n",
            "x82 = 0.0\n",
            "x83 = 0.0\n",
            "x84 = 0.0\n",
            "x85 = 0.0\n",
            "x86 = 0.0\n",
            "x87 = 0.0\n",
            "x88 = 0.0\n",
            "x89 = 0.0\n",
            "x9 = 0.0\n",
            "x90 = 0.0\n",
            "x91 = 0.0\n",
            "x92 = 0.0\n"
          ],
          "name": "stdout"
        }
      ]
    },
    {
      "cell_type": "markdown",
      "metadata": {
        "id": "AKSutDkLP_8t"
      },
      "source": [
        "*   Membuat tabel baru agar dapat mudah di interpretasiikan"
      ]
    },
    {
      "cell_type": "code",
      "metadata": {
        "colab": {
          "base_uri": "https://localhost:8080/",
          "height": 521
        },
        "id": "BpcqTA55QGhl",
        "outputId": "3152046d-336f-4618-dcf0-164b8d92004b"
      },
      "source": [
        "variable_name = []\n",
        "variable_value = []\n",
        "\n",
        "for v in prob.variables(): #perulangan megambungkan \n",
        "  variable_name.append(v.name)\n",
        "  variable_value.append(v.varValue)\n",
        "\n",
        "df = pd.DataFrame({'variable': variable_name, 'value': variable_value})\n",
        "for rownum, row in df.iterrows(): #perulangan membuat data frame\n",
        "  value = re.findall(r'(\\d+)', row['variable'])\n",
        "  df.loc[rownum, 'variable'] = int(value[0])\n",
        "\n",
        "df = df.sort_values(by='variable') #diurutkan\n",
        "\n",
        "#append results (menggambungkan hasil)\n",
        "for rownum, row in df_falah.iterrows():\n",
        "  for results_rownum, results_row in df.iterrows():\n",
        "    if rownum == results_row['variable']:\n",
        "     df_falah.loc[rownum, 'decision'] = results_row['value']\n",
        "\n",
        "df_falah"
      ],
      "execution_count": null,
      "outputs": [
        {
          "output_type": "execute_result",
          "data": {
            "text/html": [
              "<div>\n",
              "<style scoped>\n",
              "    .dataframe tbody tr th:only-of-type {\n",
              "        vertical-align: middle;\n",
              "    }\n",
              "\n",
              "    .dataframe tbody tr th {\n",
              "        vertical-align: top;\n",
              "    }\n",
              "\n",
              "    .dataframe thead th {\n",
              "        text-align: right;\n",
              "    }\n",
              "</style>\n",
              "<table border=\"1\" class=\"dataframe\">\n",
              "  <thead>\n",
              "    <tr style=\"text-align: right;\">\n",
              "      <th></th>\n",
              "      <th>judul</th>\n",
              "      <th>harga</th>\n",
              "      <th>kota_toko</th>\n",
              "      <th>jarak_tempuh (km)</th>\n",
              "      <th>terjual</th>\n",
              "      <th>decision</th>\n",
              "    </tr>\n",
              "  </thead>\n",
              "  <tbody>\n",
              "    <tr>\n",
              "      <th>0</th>\n",
              "      <td>Petualangan Sherlock Holmes</td>\n",
              "      <td>170000</td>\n",
              "      <td>KAB. BANTUL</td>\n",
              "      <td>12</td>\n",
              "      <td>117</td>\n",
              "      <td>0.0</td>\n",
              "    </tr>\n",
              "    <tr>\n",
              "      <th>1</th>\n",
              "      <td>MOTIVASI MUSLIMAH : THE GREAT SHALIHA</td>\n",
              "      <td>51000</td>\n",
              "      <td>KOTA DEPOK</td>\n",
              "      <td>550</td>\n",
              "      <td>193</td>\n",
              "      <td>0.0</td>\n",
              "    </tr>\n",
              "    <tr>\n",
              "      <th>2</th>\n",
              "      <td>MY HUSBAND MY CEO, PERFECT HUSBAND, LECTURER H...</td>\n",
              "      <td>57000</td>\n",
              "      <td>KOTA JAKARTA BARAT</td>\n",
              "      <td>600</td>\n",
              "      <td>140</td>\n",
              "      <td>0.0</td>\n",
              "    </tr>\n",
              "    <tr>\n",
              "      <th>3</th>\n",
              "      <td>Pene000it Indoliterasi - Sherlock Holmes The C...</td>\n",
              "      <td>170000</td>\n",
              "      <td>KAB. BANTUL</td>\n",
              "      <td>12</td>\n",
              "      <td>5</td>\n",
              "      <td>0.0</td>\n",
              "    </tr>\n",
              "    <tr>\n",
              "      <th>4</th>\n",
              "      <td>My Lecturer My Husband - GITLICIOUS</td>\n",
              "      <td>16500</td>\n",
              "      <td>KAB. BEKASI</td>\n",
              "      <td>550</td>\n",
              "      <td>1800</td>\n",
              "      <td>0.0</td>\n",
              "    </tr>\n",
              "    <tr>\n",
              "      <th>...</th>\n",
              "      <td>...</td>\n",
              "      <td>...</td>\n",
              "      <td>...</td>\n",
              "      <td>...</td>\n",
              "      <td>...</td>\n",
              "      <td>...</td>\n",
              "    </tr>\n",
              "    <tr>\n",
              "      <th>88</th>\n",
              "      <td>INDIGO Stories</td>\n",
              "      <td>18000</td>\n",
              "      <td>KOTA YOGYAKARTA</td>\n",
              "      <td>1</td>\n",
              "      <td>217</td>\n",
              "      <td>0.0</td>\n",
              "    </tr>\n",
              "    <tr>\n",
              "      <th>89</th>\n",
              "      <td>WHAT TO SAY NEXT by Julie Buxbaum</td>\n",
              "      <td>74800</td>\n",
              "      <td>KAB. PONOROGO</td>\n",
              "      <td>216</td>\n",
              "      <td>31</td>\n",
              "      <td>0.0</td>\n",
              "    </tr>\n",
              "    <tr>\n",
              "      <th>90</th>\n",
              "      <td>IPA &amp; IPS (chachaii_)</td>\n",
              "      <td>71200</td>\n",
              "      <td>KOTA DEPOK</td>\n",
              "      <td>550</td>\n",
              "      <td>56</td>\n",
              "      <td>0.0</td>\n",
              "    </tr>\n",
              "    <tr>\n",
              "      <th>91</th>\n",
              "      <td>Renata - Hytrrahmi</td>\n",
              "      <td>79000</td>\n",
              "      <td>KOTA TANGERANG SELATAN</td>\n",
              "      <td>650</td>\n",
              "      <td>97</td>\n",
              "      <td>0.0</td>\n",
              "    </tr>\n",
              "    <tr>\n",
              "      <th>92</th>\n",
              "      <td>Ready Stock  Selamat Tinggal Karya Tere Liye -...</td>\n",
              "      <td>68000</td>\n",
              "      <td>KOTA MALANG</td>\n",
              "      <td>392</td>\n",
              "      <td>70</td>\n",
              "      <td>0.0</td>\n",
              "    </tr>\n",
              "  </tbody>\n",
              "</table>\n",
              "<p>93 rows × 6 columns</p>\n",
              "</div>"
            ],
            "text/plain": [
              "                                                judul  ...  decision\n",
              "0                         Petualangan Sherlock Holmes  ...       0.0\n",
              "1               MOTIVASI MUSLIMAH : THE GREAT SHALIHA  ...       0.0\n",
              "2   MY HUSBAND MY CEO, PERFECT HUSBAND, LECTURER H...  ...       0.0\n",
              "3   Pene000it Indoliterasi - Sherlock Holmes The C...  ...       0.0\n",
              "4                 My Lecturer My Husband - GITLICIOUS  ...       0.0\n",
              "..                                                ...  ...       ...\n",
              "88                                     INDIGO Stories  ...       0.0\n",
              "89                  WHAT TO SAY NEXT by Julie Buxbaum  ...       0.0\n",
              "90                              IPA & IPS (chachaii_)  ...       0.0\n",
              "91                                 Renata - Hytrrahmi  ...       0.0\n",
              "92  Ready Stock  Selamat Tinggal Karya Tere Liye -...  ...       0.0\n",
              "\n",
              "[93 rows x 6 columns]"
            ]
          },
          "metadata": {
            "tags": []
          },
          "execution_count": 54
        }
      ]
    },
    {
      "cell_type": "code",
      "metadata": {
        "colab": {
          "base_uri": "https://localhost:8080/",
          "height": 224
        },
        "id": "6Qu03odhSlFG",
        "outputId": "8414f3ce-324c-42f4-ee3a-f4aa3564600a"
      },
      "source": [
        "# the final decisions and results of the optimization in the “user friendly way”\n",
        "df_falah[df_falah['decision'] == 1]"
      ],
      "execution_count": null,
      "outputs": [
        {
          "output_type": "execute_result",
          "data": {
            "text/html": [
              "<div>\n",
              "<style scoped>\n",
              "    .dataframe tbody tr th:only-of-type {\n",
              "        vertical-align: middle;\n",
              "    }\n",
              "\n",
              "    .dataframe tbody tr th {\n",
              "        vertical-align: top;\n",
              "    }\n",
              "\n",
              "    .dataframe thead th {\n",
              "        text-align: right;\n",
              "    }\n",
              "</style>\n",
              "<table border=\"1\" class=\"dataframe\">\n",
              "  <thead>\n",
              "    <tr style=\"text-align: right;\">\n",
              "      <th></th>\n",
              "      <th>judul</th>\n",
              "      <th>harga</th>\n",
              "      <th>kota_toko</th>\n",
              "      <th>jarak_tempuh (km)</th>\n",
              "      <th>terjual</th>\n",
              "      <th>decision</th>\n",
              "    </tr>\n",
              "  </thead>\n",
              "  <tbody>\n",
              "    <tr>\n",
              "      <th>30</th>\n",
              "      <td>RIGEL - RIRIN CIPLUK</td>\n",
              "      <td>15000</td>\n",
              "      <td>KAB. BEKASI</td>\n",
              "      <td>550</td>\n",
              "      <td>52</td>\n",
              "      <td>1.0</td>\n",
              "    </tr>\n",
              "    <tr>\n",
              "      <th>39</th>\n",
              "      <td>- Kamu Terlalu Banyak Bercanda by Marcela</td>\n",
              "      <td>14800</td>\n",
              "      <td>KAB. BEKASI</td>\n",
              "      <td>550</td>\n",
              "      <td>1600</td>\n",
              "      <td>1.0</td>\n",
              "    </tr>\n",
              "    <tr>\n",
              "      <th>57</th>\n",
              "      <td>WATTPAD SEPTIHAN, FRIENDSHIT, 24, ANTARIKSA, ...</td>\n",
              "      <td>19000</td>\n",
              "      <td>KOTA JAKARTA BARAT</td>\n",
              "      <td>600</td>\n",
              "      <td>362</td>\n",
              "      <td>1.0</td>\n",
              "    </tr>\n",
              "    <tr>\n",
              "      <th>66</th>\n",
              "      <td>KAMU TERLALU BANYAK BERCANDA</td>\n",
              "      <td>15000</td>\n",
              "      <td>KOTA JAKARTA BARAT</td>\n",
              "      <td>600</td>\n",
              "      <td>35</td>\n",
              "      <td>1.0</td>\n",
              "    </tr>\n",
              "  </tbody>\n",
              "</table>\n",
              "</div>"
            ],
            "text/plain": [
              "                                                judul  harga  ... terjual  decision\n",
              "30                               RIGEL - RIRIN CIPLUK  15000  ...      52       1.0\n",
              "39          - Kamu Terlalu Banyak Bercanda by Marcela  14800  ...    1600       1.0\n",
              "57   WATTPAD SEPTIHAN, FRIENDSHIT, 24, ANTARIKSA, ...  19000  ...     362       1.0\n",
              "66                       KAMU TERLALU BANYAK BERCANDA  15000  ...      35       1.0\n",
              "\n",
              "[4 rows x 6 columns]"
            ]
          },
          "metadata": {
            "tags": []
          },
          "execution_count": 56
        }
      ]
    },
    {
      "cell_type": "code",
      "metadata": {
        "colab": {
          "base_uri": "https://localhost:8080/"
        },
        "id": "Ai5mJ9QYSwEl",
        "outputId": "a45b230c-a012-41c2-a3b6-41ada399f5ef"
      },
      "source": [
        "df_falah[df_falah['decision'] == 1]['harga'].sum(axis=0)"
      ],
      "execution_count": null,
      "outputs": [
        {
          "output_type": "execute_result",
          "data": {
            "text/plain": [
              "63800"
            ]
          },
          "metadata": {
            "tags": []
          },
          "execution_count": 59
        }
      ]
    }
  ]
}